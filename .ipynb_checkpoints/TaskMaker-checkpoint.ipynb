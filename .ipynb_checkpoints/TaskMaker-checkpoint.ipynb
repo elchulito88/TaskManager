{
 "cells": [
  {
   "cell_type": "markdown",
   "metadata": {},
   "source": [
    "# Time Entry for CSE Utilization"
   ]
  },
  {
   "cell_type": "code",
   "execution_count": 1,
   "metadata": {
    "collapsed": false,
    "inputHidden": false,
    "outputHidden": false
   },
   "outputs": [],
   "source": [
    "import sys\n",
    "sys.path.append(\"E:/utilization/production\")"
   ]
  },
  {
   "cell_type": "markdown",
   "metadata": {},
   "source": [
    "### Use the code snippets below to insert the recorded time in the Database."
   ]
  },
  {
   "cell_type": "code",
   "execution_count": 37,
   "metadata": {},
   "outputs": [
    {
     "name": "stdout",
     "output_type": "stream",
     "text": [
      "[(1, '2018-07-16', 15, 'Admin Time - Coffee'), (3, '2018-07-16', 30, 'Admin Time'), (4, '2018-07-16', 15, 'Admin Time - PP'), (5, '2018-07-16', 15, 'Admin Time - PP'), (6, '2018-07-16', 60, 'Admin Time'), (7, '2018-07-16', 420, 'Queue Manager'), (9, '2018-07-17', 15, 'Admin Time'), (10, '2018-07-17', 60, 'Admin Time'), (11, '2018-07-17', 30, 'Admin Time - PP'), (12, '2018-07-17', 60, 'Team Meeting'), (13, '2018-07-18', 30, 'Admin Time'), (14, '2018-07-18', 30, 'Admin Time'), (15, '2018-07-18', 30, 'Admin Time'), (16, '2018-07-18', 15, 'Admin Time - PP'), (17, '2018-07-16', 15, 'Admin Time - ADP'), (18, '2018-07-18', 30, 'CS Stand Up'), (19, '2018-07-18', 120, 'Admin Time - Hoss'), (20, '2018-07-18', 30, 'Admin Time'), (21, '2018-07-19', 45, 'Admin Time'), (22, '2018-07-19', 30, 'Admin Time'), (23, '2018-07-19', 15, 'Admin Time - PP'), (24, '2018-07-19', 15, 'Admin Time - Chat w/ team'), (25, '2018-07-19', 15, 'One-on-One w/ Cailin'), (26, '2018-07-19', 30, 'One-on-One w/ Promote team'), (27, '2018-07-19', 30, 'Admin Time - PP')]\n"
     ]
    }
   ],
   "source": [
    "%run -i util.py -d \"2018-07-19\" -t 30 -de \"Admin Time - PP\""
   ]
  },
  {
   "cell_type": "markdown",
   "metadata": {},
   "source": [
    "### Summarize the data in the database for Viewing purposes"
   ]
  },
  {
   "cell_type": "code",
   "execution_count": 38,
   "metadata": {},
   "outputs": [],
   "source": [
    "%run -i util.py -s \"sum\""
   ]
  },
  {
   "cell_type": "markdown",
   "metadata": {},
   "source": [
    "### View DataFrame"
   ]
  },
  {
   "cell_type": "code",
   "execution_count": 39,
   "metadata": {},
   "outputs": [
    {
     "name": "stdout",
     "output_type": "stream",
     "text": [
      "    id       Dates  total_time           label_description\n",
      "18  21  2018-07-19          45                  Admin Time\n",
      "19  22  2018-07-19          30                  Admin Time\n",
      "20  23  2018-07-19          15             Admin Time - PP\n",
      "21  24  2018-07-19          15   Admin Time - Chat w/ team\n",
      "22  25  2018-07-19          15        One-on-One w/ Cailin\n",
      "23  26  2018-07-19          30  One-on-One w/ Promote team\n",
      "24  27  2018-07-19          30             Admin Time - PP\n"
     ]
    }
   ],
   "source": [
    "import pandas as pd\n",
    "\n",
    "df = pd.read_csv(\"files/metrics.csv\")\n",
    "df = df[df[\"Dates\"] == \"2018-07-19\"]\n",
    "print(df)"
   ]
  },
  {
   "cell_type": "markdown",
   "metadata": {},
   "source": [
    "### Group the data in the Dataframe"
   ]
  },
  {
   "cell_type": "code",
   "execution_count": 40,
   "metadata": {},
   "outputs": [
    {
     "data": {
      "text/plain": [
       "Dates       label_description         \n",
       "2018-07-19  Admin Time                    75\n",
       "            Admin Time - Chat w/ team     15\n",
       "            Admin Time - PP               45\n",
       "            One-on-One w/ Cailin          15\n",
       "            One-on-One w/ Promote team    30\n",
       "Name: total_time, dtype: int64"
      ]
     },
     "execution_count": 40,
     "metadata": {},
     "output_type": "execute_result"
    }
   ],
   "source": [
    "df.groupby(['Dates','label_description'])['total_time'].sum()"
   ]
  },
  {
   "cell_type": "markdown",
   "metadata": {},
   "source": [
    "### Total Hours worked"
   ]
  },
  {
   "cell_type": "code",
   "execution_count": 41,
   "metadata": {},
   "outputs": [
    {
     "data": {
      "text/plain": [
       "3.0"
      ]
     },
     "execution_count": 41,
     "metadata": {},
     "output_type": "execute_result"
    }
   ],
   "source": [
    "df['total_time'].sum() / 60"
   ]
  },
  {
   "cell_type": "markdown",
   "metadata": {},
   "source": [
    "### Backup the Database"
   ]
  },
  {
   "cell_type": "code",
   "execution_count": 6,
   "metadata": {},
   "outputs": [
    {
     "name": "stdout",
     "output_type": "stream",
     "text": [
      "\n",
      "Creating e:/utilization/backups/backup_db\\utilization-2018-07-18...\n",
      "\n",
      "------------------------------\n",
      "\n",
      "Creating e:/utilization/production/files\\Final_Metrics_2018-07-18.csv\n"
     ]
    }
   ],
   "source": [
    "%run -i util.py -s \"sum\" -b \"bk\""
   ]
  },
  {
   "cell_type": "markdown",
   "metadata": {},
   "source": [
    "\n",
    "### Remove a row from the Database"
   ]
  },
  {
   "cell_type": "code",
   "execution_count": 12,
   "metadata": {},
   "outputs": [],
   "source": [
    "%run -i util.py -r 21"
   ]
  },
  {
   "cell_type": "markdown",
   "metadata": {},
   "source": [
    "### Clear the database and Save the data to a backup database"
   ]
  },
  {
   "cell_type": "code",
   "execution_count": 7,
   "metadata": {},
   "outputs": [
    {
     "name": "stdout",
     "output_type": "stream",
     "text": [
      "[(1, None, None, None)]\n"
     ]
    }
   ],
   "source": [
    "%run -i util.py -dr \"Drop\" -c \"Create\""
   ]
  },
  {
   "cell_type": "markdown",
   "metadata": {},
   "source": [
    "# Steps for creating the necessary files and directories to run this App"
   ]
  },
  {
   "cell_type": "markdown",
   "metadata": {
    "inputHidden": false,
    "outputHidden": false
   },
   "source": [
    "### Create folders and directories for this App"
   ]
  },
  {
   "cell_type": "code",
   "execution_count": 42,
   "metadata": {
    "collapsed": false,
    "inputHidden": false,
    "outputHidden": false
   },
   "outputs": [],
   "source": [
    "!mkdir ..\\production_test\n",
    "!mkdir ..\\production_test\\files_test\n",
    "!mkdir ..\\backup_test\n",
    "!mkdir ..\\backup_test\\backup_db\n",
    "!mkdir ..\\backup_test\\backup_files"
   ]
  },
  {
   "cell_type": "markdown",
   "metadata": {},
   "source": [
    "### Create the requirements.txt file"
   ]
  },
  {
   "cell_type": "code",
   "execution_count": 50,
   "metadata": {
    "collapsed": false,
    "inputHidden": false,
    "outputHidden": false
   },
   "outputs": [
    {
     "name": "stdout",
     "output_type": "stream",
     "text": [
      "Writing requirments.txt\n"
     ]
    }
   ],
   "source": [
    "%%file requirments.txt\n",
    "appJar==0.93.0\n",
    "arrow==0.12.1\n",
    "DateTime==4.2\n",
    "numpy==1.14.5\n",
    "pandas==0.23.1\n",
    "python-dateutil==2.7.3\n",
    "pytz==2018.4\n",
    "six==1.11.0\n",
    "zope.interface==4.5.0\n",
    "ipykernel"
   ]
  },
  {
   "cell_type": "markdown",
   "metadata": {},
   "source": [
    "### Create the venv for python and afterwards use the CLI to activate and install the necessary files for this app to work"
   ]
  },
  {
   "cell_type": "code",
   "execution_count": 45,
   "metadata": {
    "collapsed": false,
    "inputHidden": false,
    "outputHidden": false
   },
   "outputs": [
    {
     "data": {
      "text/plain": [
       "[]"
      ]
     },
     "execution_count": 45,
     "metadata": {},
     "output_type": "execute_result"
    }
   ],
   "source": [
    "%sx python -m venv projectname\n",
    "## Run the commands lines below in the location path above this current directory\n",
    "## source projectname/bin/activate\n",
    "## (projectname) $ pip install -r requirementst.txt \n",
    "## (projectname) $ pip install ipykernel\n",
    "## (projectname) $ ipython kernel install --user --name=projectname"
   ]
  },
  {
   "cell_type": "code",
   "execution_count": 56,
   "metadata": {
    "collapsed": false,
    "inputHidden": false,
    "outputHidden": false
   },
   "outputs": [
    {
     "data": {
      "text/plain": [
       "'e:/utilization/production/utilization'"
      ]
     },
     "execution_count": 56,
     "metadata": {},
     "output_type": "execute_result"
    }
   ],
   "source": []
  },
  {
   "cell_type": "code",
   "execution_count": null,
   "metadata": {
    "collapsed": false,
    "inputHidden": false,
    "outputHidden": false
   },
   "outputs": [],
   "source": []
  }
 ],
 "metadata": {
  "kernel_info": {
   "name": "py3"
  },
  "kernelspec": {
   "display_name": "py3",
   "language": "python",
   "name": "py3"
  },
  "language_info": {
   "codemirror_mode": {
    "name": "ipython",
    "version": 3
   },
   "file_extension": ".py",
   "mimetype": "text/x-python",
   "name": "python",
   "nbconvert_exporter": "python",
   "pygments_lexer": "ipython3",
   "version": "3.6.5"
  },
  "nteract": {
   "version": "0.9.1"
  }
 },
 "nbformat": 4,
 "nbformat_minor": 2
}
