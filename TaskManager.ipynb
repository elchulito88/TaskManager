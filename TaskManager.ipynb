{
  "cells": [
    {
      "cell_type": "markdown",
      "source": [
        "# Time Entry for CSE Utilization"
      ],
      "metadata": {}
    },
    {
      "cell_type": "code",
      "source": [
        "import sys\n",
        "sys.path.append(\"E:/utilization/TaskManager\")"
      ],
      "outputs": [],
      "execution_count": 1,
      "metadata": {
        "collapsed": false,
        "inputHidden": false,
        "outputHidden": false
      }
    },
    {
      "cell_type": "markdown",
      "source": [
        "### Use the code snippets below to insert the recorded time in the Database."
      ],
      "metadata": {}
    },
    {
      "cell_type": "code",
      "source": [
        "%run -i util.py -d \"2018-08-01\" -t 60 -de \"Customer Success Tech Exchange\""
      ],
      "outputs": [
        {
          "output_type": "stream",
          "name": "stdout",
          "text": [
            "[(1, '2018-07-30', 60, 'Admin Time'), (2, '2018-07-30', 120, 'Community Time - Assist with Bot'), (3, '2018-07-31', 30, 'Admin Time - Coffee'), (4, '2018-07-31', 15, 'Admin Time'), (5, '2018-07-31', 30, 'CSU - Summer Tech Camp'), (6, '2018-07-31', 15, 'Team Time - Chat w/ Pete'), (7, '2018-07-31', 15, 'Team Time - Chat w/ Cailin'), (8, '2018-07-31', 30, 'Admin Time - PP'), (9, '2018-07-31', 15, 'Admin Time - PP'), (10, '2018-07-31', 30, 'Admin Time - 1 on 1 w/ Cara Immel'), (11, '2018-08-01', 30, 'Admin Time - Coffee'), (12, '2018-08-01', 60, 'Team Time - Social'), (13, '2018-08-01', 15, 'Admin Time - PP'), (14, '2018-08-01', 15, 'CS Stand Up'), (15, '2018-08-01', 60, 'Customer Success Tech Exchange')]\n"
          ]
        }
      ],
      "execution_count": 2,
      "metadata": {}
    },
    {
      "cell_type": "markdown",
      "source": [
        "### Summarize the data in the database for Viewing purposes"
      ],
      "metadata": {}
    },
    {
      "cell_type": "code",
      "source": [
        "%run -i util.py -s \"sum\""
      ],
      "outputs": [],
      "execution_count": 4,
      "metadata": {}
    },
    {
      "cell_type": "markdown",
      "source": [
        "### View DataFrame"
      ],
      "metadata": {}
    },
    {
      "cell_type": "code",
      "source": [
        "filterVal = 1"
      ],
      "outputs": [],
      "execution_count": 5,
      "metadata": {
        "collapsed": false,
        "outputHidden": false,
        "inputHidden": false
      }
    },
    {
      "cell_type": "code",
      "source": [
        "import pandas as pd\n",
        "import arrow\n",
        "\n",
        "if filterVal:\n",
        "    \n",
        "    df = pd.read_csv(\"files/metrics.csv\")\n",
        "    date_today = arrow.now().format('YYYY-MM-DD')\n",
        "    df = df[df[\"Dates\"] == date_today]\n",
        "    print(df)\n",
        "\n",
        "else:\n",
        "    df = pd.read_csv(\"files/metrics.csv\")\n",
        "    print(df)\n",
        "\n    "
      ],
      "outputs": [
        {
          "output_type": "stream",
          "name": "stdout",
          "text": [
            "    id       Dates  total_time               label_description\n",
            "10  11  2018-08-01          30             Admin Time - Coffee\n",
            "11  12  2018-08-01          60              Team Time - Social\n",
            "12  13  2018-08-01          15                 Admin Time - PP\n",
            "13  14  2018-08-01          15                     CS Stand Up\n",
            "14  15  2018-08-01          60  Customer Success Tech Exchange\n"
          ]
        }
      ],
      "execution_count": 6,
      "metadata": {}
    },
    {
      "cell_type": "markdown",
      "source": [
        "### Group the data in the Dataframe"
      ],
      "metadata": {}
    },
    {
      "cell_type": "code",
      "source": [
        "df.groupby(['Dates','label_description'])['total_time'].sum()"
      ],
      "outputs": [
        {
          "output_type": "execute_result",
          "execution_count": 7,
          "data": {
            "text/plain": [
              "Dates       label_description             \n",
              "2018-08-01  Admin Time - Coffee               30\n",
              "            Admin Time - PP                   15\n",
              "            CS Stand Up                       15\n",
              "            Customer Success Tech Exchange    60\n",
              "            Team Time - Social                60\n",
              "Name: total_time, dtype: int64"
            ]
          },
          "metadata": {}
        }
      ],
      "execution_count": 7,
      "metadata": {}
    },
    {
      "cell_type": "markdown",
      "source": [
        "### Total Hours worked"
      ],
      "metadata": {}
    },
    {
      "cell_type": "code",
      "source": [
        "df['total_time'].sum() / 60"
      ],
      "outputs": [
        {
          "output_type": "execute_result",
          "execution_count": 8,
          "data": {
            "text/plain": [
              "3.0"
            ]
          },
          "metadata": {}
        }
      ],
      "execution_count": 8,
      "metadata": {}
    },
    {
      "cell_type": "markdown",
      "source": [
        "### Backup the Database"
      ],
      "metadata": {}
    },
    {
      "cell_type": "code",
      "source": [
        "%run -i util.py -s \"sum\" -b \"bk\""
      ],
      "outputs": [
        {
          "output_type": "stream",
          "name": "stdout",
          "text": [
            "\n",
            "Creating E:/utilization/backups/backup_db\\utilization-2018-07-30...\n",
            "\n",
            "------------------------------\n",
            "\n",
            "Creating E:/utilization/production/files\\Final_Metrics_2018-07-30.csv\n"
          ]
        }
      ],
      "execution_count": 12,
      "metadata": {}
    },
    {
      "cell_type": "markdown",
      "source": [
        "\n### Remove a row from the Database"
      ],
      "metadata": {}
    },
    {
      "cell_type": "code",
      "source": [
        "%run -i util.py -r 3"
      ],
      "outputs": [],
      "execution_count": 8,
      "metadata": {}
    },
    {
      "cell_type": "markdown",
      "source": [
        "### Clear the database and Save the data to a backup database"
      ],
      "metadata": {}
    },
    {
      "cell_type": "code",
      "source": [
        "%run -i util.py -dr \"Drop\" -c \"Create\""
      ],
      "outputs": [
        {
          "output_type": "stream",
          "name": "stdout",
          "text": [
            "[(1, None, None, None)]\n"
          ]
        }
      ],
      "execution_count": 13,
      "metadata": {}
    },
    {
      "cell_type": "markdown",
      "source": [
        "# Steps for creating the necessary files and directories to run this App"
      ],
      "metadata": {}
    },
    {
      "cell_type": "markdown",
      "source": [
        "### Create folders and directories for this App"
      ],
      "metadata": {
        "inputHidden": false,
        "outputHidden": false
      }
    },
    {
      "cell_type": "code",
      "source": [
        "!mkdir ..\\production_test\n",
        "!mkdir ..\\production_test\\files_test\n",
        "!mkdir ..\\backup_test\n",
        "!mkdir ..\\backup_test\\backup_db\n",
        "!mkdir ..\\backup_test\\backup_files"
      ],
      "outputs": [],
      "execution_count": 42,
      "metadata": {
        "collapsed": false,
        "inputHidden": false,
        "outputHidden": false
      }
    },
    {
      "cell_type": "markdown",
      "source": [
        "### Create the requirements.txt file"
      ],
      "metadata": {}
    },
    {
      "cell_type": "code",
      "source": [
        "%%file requirments.txt\n",
        "appJar==0.93.0\n",
        "arrow==0.12.1\n",
        "DateTime==4.2\n",
        "numpy==1.14.5\n",
        "pandas==0.23.1\n",
        "python-dateutil==2.7.3\n",
        "pytz==2018.4\n",
        "six==1.11.0\n",
        "zope.interface==4.5.0\n",
        "ipykernel"
      ],
      "outputs": [
        {
          "output_type": "stream",
          "name": "stdout",
          "text": [
            "Writing requirments.txt\n"
          ]
        }
      ],
      "execution_count": 50,
      "metadata": {
        "collapsed": false,
        "inputHidden": false,
        "outputHidden": false
      }
    },
    {
      "cell_type": "markdown",
      "source": [
        "### Create the venv for python and afterwards use the CLI to activate and install the necessary files for this app to work"
      ],
      "metadata": {}
    },
    {
      "cell_type": "code",
      "source": [
        "%sx python -m venv projectname\n",
        "## Run the commands lines below in the location path above this current directory\n",
        "## source projectname/bin/activate\n",
        "## (projectname) $ pip install -r requirementst.txt \n",
        "## (projectname) $ pip install ipykernel\n",
        "## (projectname) $ ipython kernel install --user --name=projectname"
      ],
      "outputs": [
        {
          "output_type": "execute_result",
          "execution_count": 45,
          "data": {
            "text/plain": [
              "[]"
            ]
          },
          "metadata": {}
        }
      ],
      "execution_count": 45,
      "metadata": {
        "collapsed": false,
        "inputHidden": false,
        "outputHidden": false
      }
    },
    {
      "cell_type": "code",
      "source": [],
      "outputs": [
        {
          "output_type": "execute_result",
          "execution_count": 56,
          "data": {
            "text/plain": [
              "'e:/utilization/production/utilization'"
            ]
          },
          "metadata": {}
        }
      ],
      "execution_count": 56,
      "metadata": {
        "collapsed": false,
        "inputHidden": false,
        "outputHidden": false
      }
    },
    {
      "cell_type": "code",
      "source": [],
      "outputs": [],
      "execution_count": null,
      "metadata": {
        "collapsed": false,
        "inputHidden": false,
        "outputHidden": false
      }
    }
  ],
  "metadata": {
    "kernel_info": {
      "name": "python3"
    },
    "kernelspec": {
      "name": "python3",
      "language": "python",
      "display_name": "Python 3"
    },
    "language_info": {
      "name": "python",
      "version": "3.6.5",
      "mimetype": "text/x-python",
      "codemirror_mode": {
        "name": "ipython",
        "version": 3
      },
      "pygments_lexer": "ipython3",
      "nbconvert_exporter": "python",
      "file_extension": ".py"
    },
    "nteract": {
      "version": "0.11.2"
    }
  },
  "nbformat": 4,
  "nbformat_minor": 2
}