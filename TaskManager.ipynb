{
  "cells": [
    {
      "cell_type": "code",
      "source": [],
      "outputs": [],
      "execution_count": null,
      "metadata": {
        "collapsed": false,
        "outputHidden": false,
        "inputHidden": false
      }
    },
    {
      "cell_type": "markdown",
      "source": [
        "# Time Entry for CSE Utilization"
      ],
      "metadata": {}
    },
    {
      "cell_type": "markdown",
      "source": [
        "### Please create a utilization folder and place this file in there.\n",
        "#### If this is your first time running this app. Please head to the bottom of the app and start with cell 18."
      ],
      "metadata": {}
    },
    {
      "cell_type": "markdown",
      "source": [
        "### Use the code snippets below to insert the recorded time in the Database."
      ],
      "metadata": {}
    },
    {
      "cell_type": "code",
      "source": [
        "%run -i util.py -d \"2018-08-06\" -t 30 -de \"Admin Time - Research\""
      ],
      "outputs": [
        {
          "output_type": "stream",
          "name": "stdout",
          "text": [
            "[(1, '2018-08-06', 30, 'Admin Time - PP'), (2, '2018-08-06', 30, 'Admin Time - Research')]\n"
          ]
        },
        {
          "output_type": "display_data",
          "data": {
            "text/plain": [
              "<Figure size 432x288 with 0 Axes>"
            ]
          },
          "metadata": {}
        }
      ],
      "execution_count": 19,
      "metadata": {}
    },
    {
      "cell_type": "markdown",
      "source": [
        "### Summarize the data in the database for Viewing purposes"
      ],
      "metadata": {}
    },
    {
      "cell_type": "code",
      "source": [
        "%run -i util.py -s \"sum\""
      ],
      "outputs": [],
      "execution_count": 20,
      "metadata": {}
    },
    {
      "cell_type": "markdown",
      "source": [
        "### View DataFrame"
      ],
      "metadata": {}
    },
    {
      "cell_type": "code",
      "source": [
        "filterVal = 0"
      ],
      "outputs": [],
      "execution_count": 21,
      "metadata": {
        "collapsed": false,
        "outputHidden": false,
        "inputHidden": false
      }
    },
    {
      "cell_type": "code",
      "source": [
        "import pandas as pd\n",
        "import arrow\n",
        "\n",
        "if filterVal:\n",
        "    \n",
        "    df = pd.read_csv(\"files/metrics.csv\")\n",
        "    date_today = arrow.now().format('YYYY-MM-DD')\n",
        "    df = df[df[\"Dates\"] == date_today]\n",
        "    print(df)\n",
        "\n",
        "else:\n",
        "    df = pd.read_csv(\"files/metrics.csv\")\n",
        "    print(df)\n",
        "\n    "
      ],
      "outputs": [
        {
          "output_type": "stream",
          "name": "stdout",
          "text": [
            "   id       Dates  total_time      label_description\n",
            "0   1  2018-08-06          30        Admin Time - PP\n",
            "1   2  2018-08-06          30  Admin Time - Research\n"
          ]
        }
      ],
      "execution_count": 22,
      "metadata": {}
    },
    {
      "cell_type": "markdown",
      "source": [
        "### Group the data in the Dataframe"
      ],
      "metadata": {}
    },
    {
      "cell_type": "code",
      "source": [
        "groupedval = 0"
      ],
      "outputs": [],
      "execution_count": 23,
      "metadata": {
        "collapsed": false,
        "outputHidden": false,
        "inputHidden": false
      }
    },
    {
      "cell_type": "code",
      "source": [
        "if groupedval:\n",
        "    ## Represents grouping by Dates\n",
        "    groupdf =df.groupby(['Dates','label_description'])['total_time'].sum()\n",
        "else:\n",
        "    ## represents grouping by Label Description\n",
        "    groupdf =df.groupby(['label_description'])['total_time'].sum()"
      ],
      "outputs": [],
      "execution_count": 24,
      "metadata": {
        "collapsed": false,
        "outputHidden": false,
        "inputHidden": false
      }
    },
    {
      "cell_type": "markdown",
      "source": [
        "### Graphical View of Data"
      ],
      "metadata": {
        "collapsed": false,
        "outputHidden": false,
        "inputHidden": false
      }
    },
    {
      "cell_type": "code",
      "source": [
        "%matplotlib inline\n",
        "import matplotlib.pyplot as plt\n",
        "\n",
        "cleandf = groupdf.reset_index()\n",
        "clean_df = cleandf[[\"label_description\", \"total_time\"]].sort_values(by=['total_time'], ascending=True)\n",
        "\nplt.figure(); clean_df.plot.barh(x='label_description', y='total_time', title=\"Utilization Time\");"
      ],
      "outputs": [
        {
          "output_type": "display_data",
          "data": {
            "text/plain": [
              "<Figure size 432x288 with 0 Axes>"
            ]
          },
          "metadata": {}
        },
        {
          "output_type": "display_data",
          "data": {
            "text/plain": [
              "<Figure size 432x288 with 1 Axes>"
            ],
            "image/png": "[encoded data removed]"
          },
          "metadata": {}
        }
      ],
      "execution_count": 25,
      "metadata": {
        "collapsed": false,
        "outputHidden": false,
        "inputHidden": false
      }
    },
    {
      "cell_type": "markdown",
      "source": [
        "### Total Hours worked"
      ],
      "metadata": {}
    },
    {
      "cell_type": "code",
      "source": [
        "df['total_time'].sum() / 60"
      ],
      "outputs": [
        {
          "output_type": "execute_result",
          "execution_count": 8,
          "data": {
            "text/plain": [
              "14.75"
            ]
          },
          "metadata": {}
        }
      ],
      "execution_count": 8,
      "metadata": {}
    },
    {
      "cell_type": "markdown",
      "source": [
        "### Backup the Database"
      ],
      "metadata": {}
    },
    {
      "cell_type": "code",
      "source": [
        "%run -i util.py -s \"sum\" -b \"bk\""
      ],
      "outputs": [
        {
          "output_type": "stream",
          "name": "stdout",
          "text": [
            "\n",
            "Creating E:/utilization/backups/backup_db\\utilization-2018-08-06...\n",
            "\n",
            "------------------------------\n",
            "\n",
            "Creating E:/utilization/TaskManager/files\\Final_Metrics_2018-08-06.csv\n"
          ]
        }
      ],
      "execution_count": 9,
      "metadata": {}
    },
    {
      "cell_type": "markdown",
      "source": [
        "\n### Remove a row from the Database"
      ],
      "metadata": {}
    },
    {
      "cell_type": "code",
      "source": [
        "%run -i util.py -r 1"
      ],
      "outputs": [],
      "execution_count": 11,
      "metadata": {}
    },
    {
      "cell_type": "markdown",
      "source": [
        "### Clear the database and Save the data to a backup database"
      ],
      "metadata": {}
    },
    {
      "cell_type": "code",
      "source": [
        "%run -i util.py -dr \"Drop\" -c \"Create\""
      ],
      "outputs": [
        {
          "output_type": "stream",
          "name": "stdout",
          "text": [
            "[(1, None, None, None)]\n"
          ]
        }
      ],
      "execution_count": 10,
      "metadata": {}
    },
    {
      "cell_type": "markdown",
      "source": [
        "# Steps for creating the necessary files and directories to run this App"
      ],
      "metadata": {}
    },
    {
      "cell_type": "code",
      "source": [
        "## Edit the E drive path with the drive path you create \n",
        "## the utlization folder in.  \n",
        "import sys\n",
        "sys.path.append(\"E:/utilization/TaskManager\")"
      ],
      "outputs": [],
      "execution_count": 18,
      "metadata": {
        "collapsed": false,
        "outputHidden": false,
        "inputHidden": false
      }
    },
    {
      "cell_type": "markdown",
      "source": [
        "### Create folders and directories for this App (Need to be in the utilization folder directory for these commands to work)"
      ],
      "metadata": {
        "inputHidden": false,
        "outputHidden": false
      }
    },
    {
      "cell_type": "code",
      "source": [
        "!mkdir ..\\TaskManager\n",
        "!mkdir ..\\TaskManager\\files\n",
        "!mkdir ..\\backups\n",
        "!mkdir ..\\backups\\backup_db\n",
        "!mkdir ..\\backups\\backup_files\n",
        "!mkdir ..\\TaskManager\\logger"
      ],
      "outputs": [],
      "execution_count": 17,
      "metadata": {
        "collapsed": false,
        "inputHidden": false,
        "outputHidden": false
      }
    },
    {
      "cell_type": "markdown",
      "source": [
        "### Create the requirements.txt file"
      ],
      "metadata": {}
    },
    {
      "cell_type": "code",
      "source": [
        "%%file requirments.txt\n",
        "appJar==0.93.0\n",
        "arrow==0.12.1\n",
        "DateTime==4.2\n",
        "numpy==1.14.5\n",
        "pandas==0.23.1\n",
        "python-dateutil==2.7.3\n",
        "pytz==2018.4\n",
        "six==1.11.0\n",
        "zope.interface==4.5.0\n",
        "ipykernel"
      ],
      "outputs": [
        {
          "output_type": "stream",
          "name": "stdout",
          "text": [
            "Writing requirments.txt\n"
          ]
        }
      ],
      "execution_count": 50,
      "metadata": {
        "collapsed": false,
        "inputHidden": false,
        "outputHidden": false
      }
    },
    {
      "cell_type": "markdown",
      "source": [
        "### Create the venv for python and afterwards use the CLI to activate and install the necessary files for this app to work"
      ],
      "metadata": {}
    },
    {
      "cell_type": "code",
      "source": [
        "%sx python -m venv projectname\n",
        "## Run the commands lines below in the location path above this current directory\n",
        "## source projectname/bin/activate\n",
        "## (projectname) $ pip install -r requirementst.txt \n",
        "## (projectname) $ pip install ipykernel\n",
        "## (projectname) $ ipython kernel install --user --name=projectname"
      ],
      "outputs": [
        {
          "output_type": "execute_result",
          "execution_count": 45,
          "data": {
            "text/plain": [
              "[]"
            ]
          },
          "metadata": {}
        }
      ],
      "execution_count": 45,
      "metadata": {
        "collapsed": false,
        "inputHidden": false,
        "outputHidden": false
      }
    },
    {
      "cell_type": "code",
      "source": [],
      "outputs": [
        {
          "output_type": "execute_result",
          "execution_count": 56,
          "data": {
            "text/plain": [
              "'e:/utilization/production/utilization'"
            ]
          },
          "metadata": {}
        }
      ],
      "execution_count": 56,
      "metadata": {
        "collapsed": false,
        "inputHidden": false,
        "outputHidden": false
      }
    },
    {
      "cell_type": "code",
      "source": [],
      "outputs": [],
      "execution_count": null,
      "metadata": {
        "collapsed": false,
        "inputHidden": false,
        "outputHidden": false
      }
    }
  ],
  "metadata": {
    "kernel_info": {
      "name": "python3"
    },
    "kernelspec": {
      "name": "python3",
      "language": "python",
      "display_name": "Python 3"
    },
    "language_info": {
      "name": "python",
      "version": "3.6.5",
      "mimetype": "text/x-python",
      "codemirror_mode": {
        "name": "ipython",
        "version": 3
      },
      "pygments_lexer": "ipython3",
      "nbconvert_exporter": "python",
      "file_extension": ".py"
    },
    "nteract": {
      "version": "0.11.2"
    }
  },
  "nbformat": 4,
  "nbformat_minor": 2
}